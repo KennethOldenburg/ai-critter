{
  "nbformat": 4,
  "nbformat_minor": 0,
  "metadata": {
    "colab": {
      "name": "birbcam_training.ipynb",
      "provenance": [],
      "collapsed_sections": []
    },
    "kernelspec": {
      "name": "python3",
      "display_name": "Python 3"
    },
    "accelerator": "GPU"
  },
  "cells": [
    {
      "cell_type": "code",
      "metadata": {
        "id": "5_ISKBD11sZ0"
      },
      "source": [
        "#!pip install fastai==2.2.5"
      ],
      "execution_count": null,
      "outputs": []
    },
    {
      "cell_type": "code",
      "metadata": {
        "id": "3JZfpVjiGxdV"
      },
      "source": [
        "from fastai.vision.all import *"
      ],
      "execution_count": null,
      "outputs": []
    },
    {
      "cell_type": "code",
      "metadata": {
        "id": "xxhiPAD-Po5M"
      },
      "source": [
        "from google.colab import drive\n",
        "drive.mount('/content/gdrive')"
      ],
      "execution_count": null,
      "outputs": []
    },
    {
      "cell_type": "code",
      "metadata": {
        "id": "lHt_5xjpGymU"
      },
      "source": [
        "path = Path(F\"/content/gdrive/My Drive/birbcam/data/\")"
      ],
      "execution_count": null,
      "outputs": []
    },
    {
      "cell_type": "code",
      "metadata": {
        "id": "wGENhM4yHxIs"
      },
      "source": [
        "files = get_image_files(path/\"training\")"
      ],
      "execution_count": null,
      "outputs": []
    },
    {
      "cell_type": "code",
      "metadata": {
        "id": "3NhpynkJH6Sq"
      },
      "source": [
        "len(files)"
      ],
      "execution_count": null,
      "outputs": []
    },
    {
      "cell_type": "code",
      "metadata": {
        "id": "_iLyEJOQJvwY"
      },
      "source": [
        "file_types = [str(f).split('.')[1] for f in files]\n",
        "set(file_types)"
      ],
      "execution_count": null,
      "outputs": []
    },
    {
      "cell_type": "code",
      "metadata": {
        "id": "RiGy_GJmXjBo"
      },
      "source": [
        "pattern = r'^(.*)_(\\d|(\\d{4})-(\\d{2})-(\\d{2})T(\\d{2})\\:(\\d{2})\\:(\\d{2}))+.(jpg|JPG|jpeg|png)'"
      ],
      "execution_count": null,
      "outputs": []
    },
    {
      "cell_type": "code",
      "metadata": {
        "id": "-460mD6cH8I1"
      },
      "source": [
        "def labeler(x):\n",
        "  x = str(x)\n",
        "  x = x.split('/')[-1]\n",
        "  x = x.split('_')\n",
        "  x = x[:-1]\n",
        "  if 'none' in x:\n",
        "    x.remove('none')\n",
        "  return ','.join(x)\n",
        "\n",
        "df = pd.DataFrame({'fname': [str(f).split('/')[-1] for f in files]})\n",
        "df['labels'] = df['fname'].apply(labeler)\n",
        "#df = df[df['labels'] != '']\n",
        "df = df.reset_index(drop=true)"
      ],
      "execution_count": null,
      "outputs": []
    },
    {
      "cell_type": "code",
      "metadata": {
        "id": "-W3Odh8UZ5jD"
      },
      "source": [
        "df['labels'].unique()"
      ],
      "execution_count": null,
      "outputs": []
    },
    {
      "cell_type": "code",
      "metadata": {
        "id": "cV_C0Ws816lY"
      },
      "source": [
        "df.head()"
      ],
      "execution_count": null,
      "outputs": []
    },
    {
      "cell_type": "code",
      "metadata": {
        "id": "LnD9-6xLIQpq"
      },
      "source": [
        "dls = ImageDataLoaders.from_df(df, path, folder='training', label_delim=',', \n",
        "                               item_tfms=Resize((320,240)), batch_tfms=aug_transforms(size=(320,240)))"
      ],
      "execution_count": null,
      "outputs": []
    },
    {
      "cell_type": "code",
      "metadata": {
        "id": "bP54nFeZIRBX"
      },
      "source": [
        "dls.show_batch()"
      ],
      "execution_count": null,
      "outputs": []
    },
    {
      "cell_type": "code",
      "metadata": {
        "id": "alyVNv4dJHTK"
      },
      "source": [
        "learn = cnn_learner(dls, resnet34, metrics=partial(accuracy_multi, thresh=0.5))"
      ],
      "execution_count": null,
      "outputs": []
    },
    {
      "cell_type": "code",
      "metadata": {
        "id": "zTTMzvLaJPX8"
      },
      "source": [
        "learn.lr_find()"
      ],
      "execution_count": null,
      "outputs": []
    },
    {
      "cell_type": "code",
      "metadata": {
        "id": "SfOB6RIIKdja"
      },
      "source": [
        "mixup = MixUp(1.)\n",
        "learn.fine_tune(10, 3e-2, cbs=mixup)"
      ],
      "execution_count": null,
      "outputs": []
    },
    {
      "cell_type": "code",
      "metadata": {
        "id": "MRvFKy3P5FRl"
      },
      "source": [
        "learn.save('first_cycles')"
      ],
      "execution_count": null,
      "outputs": []
    },
    {
      "cell_type": "code",
      "metadata": {
        "id": "7Q6iWM5G5TVZ"
      },
      "source": [
        "learn.load('first_cycles')"
      ],
      "execution_count": null,
      "outputs": []
    },
    {
      "cell_type": "code",
      "metadata": {
        "id": "qqvsUjyp5C8C"
      },
      "source": [
        "learn.fine_tune(5, 5e-3, cbs=mixup)"
      ],
      "execution_count": null,
      "outputs": []
    },
    {
      "cell_type": "code",
      "metadata": {
        "id": "2ZttCD0BGqs6"
      },
      "source": [
        "learn.save('first_cycles')"
      ],
      "execution_count": null,
      "outputs": []
    },
    {
      "cell_type": "code",
      "metadata": {
        "id": "h-t95lGvIHiH"
      },
      "source": [
        "learn.load('first_cycles')"
      ],
      "execution_count": null,
      "outputs": []
    },
    {
      "cell_type": "code",
      "metadata": {
        "id": "9682615R3dnf"
      },
      "source": [
        "learn.unfreeze()\n",
        "learn.fine_tune(5, 5e-3, cbs=mixup)"
      ],
      "execution_count": null,
      "outputs": []
    },
    {
      "cell_type": "code",
      "metadata": {
        "id": "DxvR14LVJ0q6"
      },
      "source": [
        "#learn.save('first_cycles')"
      ],
      "execution_count": null,
      "outputs": []
    },
    {
      "cell_type": "code",
      "metadata": {
        "id": "FzrAgBEfzQAK"
      },
      "source": [
        "learn.fine_tune(5, 5e-3, cbs=mixup)"
      ],
      "execution_count": null,
      "outputs": []
    },
    {
      "cell_type": "code",
      "metadata": {
        "id": "5Fr2hjgoKmBp"
      },
      "source": [
        "learn.show_results()"
      ],
      "execution_count": null,
      "outputs": []
    },
    {
      "cell_type": "code",
      "metadata": {
        "id": "P8vc4D4SKoQl"
      },
      "source": [
        "interp = Interpretation.from_learner(learn)"
      ],
      "execution_count": null,
      "outputs": []
    },
    {
      "cell_type": "code",
      "metadata": {
        "id": "zzJhtSZbKvX3"
      },
      "source": [
        "interp.plot_top_losses(16, figsize=(15,10))"
      ],
      "execution_count": null,
      "outputs": []
    },
    {
      "cell_type": "code",
      "metadata": {
        "id": "RLmE_2EBOoxy"
      },
      "source": [
        "tst_files = get_image_files(path/\"webcam\")\n",
        "tst_dl = dls.test_dl(tst_files)"
      ],
      "execution_count": null,
      "outputs": []
    },
    {
      "cell_type": "code",
      "metadata": {
        "id": "VJ5yEMt3PPv_"
      },
      "source": [
        "tst_dl.show_batch(max_n=8)"
      ],
      "execution_count": null,
      "outputs": []
    },
    {
      "cell_type": "code",
      "metadata": {
        "id": "a89a5TQZPySl"
      },
      "source": [
        "[learn.predict(f)[0] for f in tst_files]"
      ],
      "execution_count": null,
      "outputs": []
    },
    {
      "cell_type": "code",
      "metadata": {
        "id": "MmQOTt2np8ip"
      },
      "source": [
        "tst_files = [t for t in files if 'chickadee_2020-12-26T09:34:22.jpg' in str(t)]\n",
        "[learn.predict(f)[0] for f in tst_files]"
      ],
      "execution_count": null,
      "outputs": []
    },
    {
      "cell_type": "code",
      "metadata": {
        "id": "crqbh9ICRqNA"
      },
      "source": [
        "#learn.save('third_birb_model')"
      ],
      "execution_count": null,
      "outputs": []
    },
    {
      "cell_type": "code",
      "metadata": {
        "id": "eePxIx_NR_GR"
      },
      "source": [
        "learn.export(F\"/content/gdrive/My Drive/birbcam/data/models/birbcam_prod.pkl\")"
      ],
      "execution_count": null,
      "outputs": []
    },
    {
      "cell_type": "code",
      "metadata": {
        "id": "OhlnMsus6Dp_"
      },
      "source": [
        ""
      ],
      "execution_count": null,
      "outputs": []
    }
  ]
}