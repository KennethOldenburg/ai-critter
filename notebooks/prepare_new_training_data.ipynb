{
 "cells": [
  {
   "cell_type": "code",
   "execution_count": 1,
   "metadata": {},
   "outputs": [],
   "source": [
    "from datetime import datetime as dt\n",
    "import os\n",
    "import sqlite3\n",
    "import shutil\n",
    "from tqdm.notebook import tqdm\n",
    "from pydrive2.auth import GoogleAuth\n",
    "from pydrive2.drive import GoogleDrive\n",
    "\n",
    "gauth = GoogleAuth()\n",
    "gauth.CommandLineAuth()\n",
    "drive = GoogleDrive(gauth)"
   ]
  },
  {
   "cell_type": "code",
   "execution_count": 8,
   "metadata": {},
   "outputs": [],
   "source": [
    "conn = sqlite3.connect('../data/model_results.db')\n",
    "c = conn.cursor()\n",
    "c.execute('''\n",
    "SELECT * FROM results \n",
    "WHERE (true_label IS NOT NULL\n",
    "AND NOT (true_label = \"none\"))\n",
    "OR (NOT (true_label = prediction)\n",
    "OR confidence < 0.75);\n",
    "''')\n",
    "rows = c.fetchall()"
   ]
  },
  {
   "cell_type": "code",
   "execution_count": 9,
   "metadata": {},
   "outputs": [],
   "source": [
    "# c.execute('''CREATE TABLE training (\n",
    "#     utc_datetime text NOT NULL PRIMARY KEY,\n",
    "#     datetime text NOT NULL, \n",
    "#     file_name text NOT NULL, \n",
    "#     predicton text NOT NULL, \n",
    "#     confidence real NOT NULL, \n",
    "#     true_label text)''')\n",
    "# conn.commit()"
   ]
  },
  {
   "cell_type": "code",
   "execution_count": 10,
   "metadata": {},
   "outputs": [
    {
     "data": {
      "text/plain": [
       "17653"
      ]
     },
     "execution_count": 10,
     "metadata": {},
     "output_type": "execute_result"
    }
   ],
   "source": [
    "# Number of new rows for training data\n",
    "len(rows)"
   ]
  },
  {
   "cell_type": "code",
   "execution_count": 22,
   "metadata": {},
   "outputs": [],
   "source": [
    "training_folder_id = '1ABP5b7r6ac6bVENGWEobN6wdvRw5Hj1c'\n",
    "# Auto-iterate through all files that matches this query\n",
    "gdrive_file_list = drive.ListFile({'q': f\"'{training_folder_id}' in parents\"}).GetList()\n",
    "gdrive_file_list = [f['title'] for f in gdrive_file_list]"
   ]
  },
  {
   "cell_type": "code",
   "execution_count": 23,
   "metadata": {},
   "outputs": [
    {
     "data": {
      "text/plain": [
       "0"
      ]
     },
     "execution_count": 23,
     "metadata": {},
     "output_type": "execute_result"
    }
   ],
   "source": [
    "new_training_imgs = [r for r in rows if r[5]+'_'+r[1]+'.jpg' not in gdrive_file_list]\n",
    "len(new_training_imgs)"
   ]
  },
  {
   "cell_type": "code",
   "execution_count": 21,
   "metadata": {},
   "outputs": [
    {
     "data": {
      "application/vnd.jupyter.widget-view+json": {
       "model_id": "151691c418a741cd895fa1a7ff33e2a3",
       "version_major": 2,
       "version_minor": 0
      },
      "text/plain": [
       "  0%|          | 0/1038 [00:00<?, ?it/s]"
      ]
     },
     "metadata": {},
     "output_type": "display_data"
    }
   ],
   "source": [
    "# Iterate over the results above and upload to google drive training folder\n",
    "for i, row in tqdm(enumerate(new_training_imgs), total=len(new_training_imgs)):\n",
    "    utc_datetime, datetime, file_name, prediction, confidence, label, _ = row\n",
    "    gdrive_fname = f'{label}_{datetime}.jpg'\n",
    "    f = drive.CreateFile({'title': gdrive_fname, 'parents': [{'id': training_folder_id}]})\n",
    "    f.SetContentFile(f'../imgs/{file_name}')\n",
    "    try:\n",
    "        f.Upload()\n",
    "    except:\n",
    "        # Try a second time if the connection errors out\n",
    "        f.Upload()"
   ]
  },
  {
   "cell_type": "code",
   "execution_count": 24,
   "metadata": {},
   "outputs": [],
   "source": [
    "conn.commit()\n",
    "conn.close()"
   ]
  },
  {
   "cell_type": "code",
   "execution_count": null,
   "metadata": {},
   "outputs": [],
   "source": []
  }
 ],
 "metadata": {
  "kernelspec": {
   "display_name": "Python 3",
   "language": "python",
   "name": "python3"
  },
  "language_info": {
   "codemirror_mode": {
    "name": "ipython",
    "version": 3
   },
   "file_extension": ".py",
   "mimetype": "text/x-python",
   "name": "python",
   "nbconvert_exporter": "python",
   "pygments_lexer": "ipython3",
   "version": "3.9.1"
  }
 },
 "nbformat": 4,
 "nbformat_minor": 4
}
