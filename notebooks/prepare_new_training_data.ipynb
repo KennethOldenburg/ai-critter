{
 "cells": [
  {
   "cell_type": "code",
   "execution_count": 5,
   "metadata": {},
   "outputs": [],
   "source": [
    "import os\n",
    "import sqlite3\n",
    "import shutil"
   ]
  },
  {
   "cell_type": "code",
   "execution_count": 6,
   "metadata": {},
   "outputs": [],
   "source": [
    "conn = sqlite3.connect('../data/model_results.db')\n",
    "c = conn.cursor()\n",
    "c.execute('''\n",
    "SELECT * FROM results \n",
    "WHERE true_label IS NOT NULL \n",
    "AND (NOT (true_label = prediction)\n",
    "OR confidence < 0.75);\n",
    "''')\n",
    "rows = c.fetchall()"
   ]
  },
  {
   "cell_type": "code",
   "execution_count": 7,
   "metadata": {},
   "outputs": [],
   "source": [
    "# c.execute('''CREATE TABLE training (\n",
    "#     utc_datetime text NOT NULL PRIMARY KEY,\n",
    "#     datetime text NOT NULL, \n",
    "#     file_name text NOT NULL, \n",
    "#     predicton text NOT NULL, \n",
    "#     confidence real NOT NULL, \n",
    "#     true_label text)''')\n",
    "# conn.commit()"
   ]
  },
  {
   "cell_type": "code",
   "execution_count": 8,
   "metadata": {},
   "outputs": [
    {
     "data": {
      "text/plain": [
       "3567"
      ]
     },
     "execution_count": 8,
     "metadata": {},
     "output_type": "execute_result"
    }
   ],
   "source": [
    "# Number of new rows for training data\n",
    "len(rows)"
   ]
  },
  {
   "cell_type": "code",
   "execution_count": 11,
   "metadata": {},
   "outputs": [],
   "source": [
    "# Iterate over the results above\n",
    "# If the calssification is wrong, copy it \n",
    "for i, row in enumerate(rows):\n",
    "    utc_datetime, datetime, file_name, prediction, confidence, label = row\n",
    "    num = i+100\n",
    "    shutil.copy(f'../imgs/{file_name}', f'../imgs/training/{label}_{datetime}.jpg')\n",
    "    if prediction == 'none' and label =='none' and confidence >= 0.75:\n",
    "        os.remove(f'../imgs/{file_name}')\n",
    "        c.execute('''\n",
    "                  DELETE FROM results \n",
    "                  WHERE utc_datetime = ?;\n",
    "                  ''',\n",
    "                 (utc_datetime,))"
   ]
  },
  {
   "cell_type": "code",
   "execution_count": 12,
   "metadata": {},
   "outputs": [],
   "source": [
    "conn.commit()\n",
    "conn.close()"
   ]
  },
  {
   "cell_type": "code",
   "execution_count": null,
   "metadata": {},
   "outputs": [],
   "source": [
    "os.listdir()"
   ]
  }
 ],
 "metadata": {
  "kernelspec": {
   "display_name": "Python 3",
   "language": "python",
   "name": "python3"
  },
  "language_info": {
   "codemirror_mode": {
    "name": "ipython",
    "version": 3
   },
   "file_extension": ".py",
   "mimetype": "text/x-python",
   "name": "python",
   "nbconvert_exporter": "python",
   "pygments_lexer": "ipython3",
   "version": "3.8.6"
  }
 },
 "nbformat": 4,
 "nbformat_minor": 4
}
